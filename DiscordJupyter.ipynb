{
 "cells": [
  {
   "cell_type": "code",
   "execution_count": 1,
   "metadata": {},
   "outputs": [
    {
     "name": "stdout",
     "output_type": "stream",
     "text": [
      "Collecting discord\n",
      "  Downloading discord-2.3.2-py3-none-any.whl.metadata (381 bytes)\n",
      "Collecting discord.py>=2.3.2 (from discord)\n",
      "  Downloading discord.py-2.3.2-py3-none-any.whl.metadata (4.9 kB)\n",
      "Requirement already satisfied: aiohttp<4,>=3.7.4 in /opt/anaconda3/lib/python3.11/site-packages (from discord.py>=2.3.2->discord) (3.9.3)\n",
      "Requirement already satisfied: aiosignal>=1.1.2 in /opt/anaconda3/lib/python3.11/site-packages (from aiohttp<4,>=3.7.4->discord.py>=2.3.2->discord) (1.2.0)\n",
      "Requirement already satisfied: attrs>=17.3.0 in /opt/anaconda3/lib/python3.11/site-packages (from aiohttp<4,>=3.7.4->discord.py>=2.3.2->discord) (23.1.0)\n",
      "Requirement already satisfied: frozenlist>=1.1.1 in /opt/anaconda3/lib/python3.11/site-packages (from aiohttp<4,>=3.7.4->discord.py>=2.3.2->discord) (1.4.0)\n",
      "Requirement already satisfied: multidict<7.0,>=4.5 in /opt/anaconda3/lib/python3.11/site-packages (from aiohttp<4,>=3.7.4->discord.py>=2.3.2->discord) (6.0.4)\n",
      "Requirement already satisfied: yarl<2.0,>=1.0 in /opt/anaconda3/lib/python3.11/site-packages (from aiohttp<4,>=3.7.4->discord.py>=2.3.2->discord) (1.9.3)\n",
      "Requirement already satisfied: idna>=2.0 in /opt/anaconda3/lib/python3.11/site-packages (from yarl<2.0,>=1.0->aiohttp<4,>=3.7.4->discord.py>=2.3.2->discord) (3.4)\n",
      "Downloading discord-2.3.2-py3-none-any.whl (1.1 kB)\n",
      "Downloading discord.py-2.3.2-py3-none-any.whl (1.1 MB)\n",
      "\u001b[2K   \u001b[90m━━━━━━━━━━━━━━━━━━━━━━━━━━━━━━━━━━━━━━━━\u001b[0m \u001b[32m1.1/1.1 MB\u001b[0m \u001b[31m3.0 MB/s\u001b[0m eta \u001b[36m0:00:00\u001b[0m00:01\u001b[0m00:01\u001b[0m\n",
      "\u001b[?25hInstalling collected packages: discord.py, discord\n",
      "Successfully installed discord-2.3.2 discord.py-2.3.2\n",
      "Requirement already satisfied: nest_asyncio in /opt/anaconda3/lib/python3.11/site-packages (1.6.0)\n"
     ]
    }
   ],
   "source": [
    "#install library\n",
    "!pip install discord\n",
    "!pip install nest_asyncio \n"
   ]
  },
  {
   "cell_type": "code",
   "execution_count": 1,
   "metadata": {},
   "outputs": [],
   "source": [
    "#import modules\n",
    "import discord\n",
    "import os\n",
    "import nest_asyncio \n",
    "import requests\n",
    "import json\n",
    "import random\n",
    "import numpy as np\n",
    "import pandas as pd\n",
    "nest_asyncio.apply()"
   ]
  },
  {
   "cell_type": "code",
   "execution_count": 2,
   "metadata": {},
   "outputs": [],
   "source": [
    "# Token of the chat-bot for chat-bot identification, get from https://discord.com/developers/applications/1093297147845300337/bot\n",
    "TOKEN = 'MTI1Mjg3MzE2MTkwMTQ3MzgxNA.GXfZd0.7XQSbB3Fmb8n80NcWO_LU9tb7BBVyXxL5ElmgM'\n",
    "\n",
    "client = discord.Client(intents=discord.Intents.all())\n",
    "#client = discord.Client(intents=discord.Intents.default())"
   ]
  },
  {
   "cell_type": "code",
   "execution_count": null,
   "metadata": {},
   "outputs": [
    {
     "name": "stderr",
     "output_type": "stream",
     "text": [
      "[2024-06-24 12:53:21] [INFO    ] discord.client: logging in using static token\n",
      "[2024-06-24 12:53:23] [INFO    ] discord.gateway: Shard ID None has connected to Gateway (Session ID: e199c44e048b257528154e25d4cc2d7a).\n"
     ]
    },
    {
     "name": "stdout",
     "output_type": "stream",
     "text": [
      "Logged in as Jolly Carrot#5525 (ID: 1252873161901473814)\n",
      "------\n"
     ]
    }
   ],
   "source": [
    "# This example shows how a Discord react.\n",
    "\n",
    "\n",
    "def get_quote():\n",
    "  response = requests.get(\"https://zenquotes.io/api/random\")\n",
    "  json_data = json.loads(response.text)\n",
    "  quote = json_data[0]['q'] + \" -\" + json_data[0]['a']\n",
    "  return(quote)\n",
    "\n",
    "class MyClient(discord.Client):\n",
    "    async def on_ready(self):\n",
    "        print(f'Logged in as {self.user} (ID: {self.user.id})')\n",
    "        print('------')\n",
    "\n",
    "    async def on_message(self, message):\n",
    "        # we do not want the bot to reply to itself\n",
    "        if message.author.id == self.user.id:\n",
    "            return\n",
    "\n",
    "        # while the bot is waiting on a response from the model\n",
    "        # set the its status as typing for user-friendliness\n",
    "        async with message.channel.typing():\n",
    "     #    bot_response = response.get('generated_text', None)\n",
    "     #   await message.channel.send(bot_response)     \n",
    "            if message.content.startswith('!hello'):\n",
    "                await message.reply('Hello!', mention_author=True)\n",
    "        \n",
    "            if message.content.startswith(\"$hi\"):\n",
    "                r2 = ['I am doing fine', 'I am hanging in', 'I am good', 'I am A-okay! haha', 'Things are a bit tough here, but I will get through']\n",
    "                res = r2[random.randint(0, 4)]\n",
    "                await message.channel.send(res.format(message))\n",
    "            \n",
    "            if message.content.startswith('$enlighten'):\n",
    "                quote = get_quote()\n",
    "                await message.channel.send(quote)\n",
    " \n",
    "\n",
    "intents = discord.Intents.default()\n",
    "intents.message_content = True\n",
    "\n",
    "\n",
    "\n",
    "def main():\n",
    "  client = MyClient(intents=intents)\n",
    "  client.run(TOKEN)\n",
    "\n",
    "\n",
    "if __name__ == '__main__':\n",
    "  main()"
   ]
  },
  {
   "cell_type": "code",
   "execution_count": null,
   "metadata": {},
   "outputs": [],
   "source": []
  }
 ],
 "metadata": {
  "kernelspec": {
   "display_name": "Python 3 (ipykernel)",
   "language": "python",
   "name": "python3"
  },
  "language_info": {
   "codemirror_mode": {
    "name": "ipython",
    "version": 3
   },
   "file_extension": ".py",
   "mimetype": "text/x-python",
   "name": "python",
   "nbconvert_exporter": "python",
   "pygments_lexer": "ipython3",
   "version": "3.11.7"
  }
 },
 "nbformat": 4,
 "nbformat_minor": 4
}
